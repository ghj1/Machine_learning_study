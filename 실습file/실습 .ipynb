{
 "cells": [
  {
   "cell_type": "code",
   "execution_count": 3,
   "id": "b2111a51",
   "metadata": {},
   "outputs": [
    {
     "name": "stdout",
     "output_type": "stream",
     "text": [
      "Requirement already satisfied: scipy in ./MLvenv/lib/python3.8/site-packages (1.7.1)\r\n",
      "Requirement already satisfied: numpy<1.23.0,>=1.16.5 in ./MLvenv/lib/python3.8/site-packages (from scipy) (1.21.2)\r\n"
     ]
    }
   ],
   "source": [
    "!pip3.8 install scipy"
   ]
  },
  {
   "cell_type": "code",
   "execution_count": 25,
   "id": "4bea54cc",
   "metadata": {},
   "outputs": [
    {
     "name": "stdout",
     "output_type": "stream",
     "text": [
      "평균값:  49.17\n",
      "중앙값:  49.0\n",
      "최빈값: 3 (125)\n"
     ]
    }
   ],
   "source": [
    "import numpy as np \n",
    "from scipy import stats \n",
    "\n",
    "np.random.seed(0) # random 값 고정 \n",
    "\n",
    "data = np.random.randint(0,100,10000) # 0~100까지 임의의 정수 10000개 \n",
    "\n",
    "\n",
    "mean  = np.mean(data); print('평균값: ', mean.round(2))\n",
    "median = np.median(data); print('중앙값: ', median)\n",
    "mode = stats.mode(data); print('최빈값: {} ({})'.format(mode[0][0], mode[1][0]))\n"
   ]
  },
  {
   "cell_type": "markdown",
   "id": "dd5de53d",
   "metadata": {},
   "source": [
    "## pandas로 대표값 구하기"
   ]
  },
  {
   "cell_type": "code",
   "execution_count": 38,
   "id": "1c7ff99d",
   "metadata": {},
   "outputs": [
    {
     "name": "stdout",
     "output_type": "stream",
     "text": [
      "<class 'numpy.float64'>\n",
      "평균값: 49.40\n",
      "중앙값:  49.0\n",
      "최빈값:  0    0\n",
      "dtype: int64\n"
     ]
    }
   ],
   "source": [
    "import pandas as pd \n",
    "import numpy as np \n",
    "from scipy import stats\n",
    "\n",
    "np.random.seed(0)\n",
    "\n",
    "data = np.random.randint(0,100,1000)\n",
    "\n",
    "data_p = pd.Series(data)\n",
    "#data1 = pd.DataFrame(data) # 컬럼이 여러개 일 뗴 \n",
    "# print(data1)\n",
    "mean = data_p.mean()\n",
    "print(type(mean))\n",
    "print('평균값: {:.2f}'.format(mean))\n",
    "median = data_p.median();print('중앙값: ', median)\n",
    "mode = data_p.mode(); print('최빈값: ', mode)\n",
    "\n",
    "\n",
    "#mean = data1.mean(); print('평균값: ', mean.round(2))\n",
    "#print(mean)\n",
    "#median = data1.median(); print('중앙값: ', median)\n",
    "#mode = data1.mode(); print('최빈값: ', mode) # 최빈값\n",
    "\n"
   ]
  },
  {
   "cell_type": "code",
   "execution_count": 43,
   "id": "6cefacb0",
   "metadata": {},
   "outputs": [
    {
     "name": "stdout",
     "output_type": "stream",
     "text": [
      "49.0\n",
      "49.4\n",
      "0    0\n",
      "dtype: int64\n",
      "0\n"
     ]
    }
   ],
   "source": [
    "import numpy as np \n",
    "import pandas as pd \n",
    "from scipy import stats\n",
    "\n",
    "np.random.seed(0) # random 값 고정\n",
    "pda = np.random.randint(0,100,1000)\n",
    "pdata = pd.Series(data) # 여러 컬럼일 떄 DataFrame use\n",
    "median = pdata.median()\n",
    "print(median)\n",
    "mean = pdata.mean()\n",
    "print(mean.round(2))\n",
    "mode = pdata.mode()\n",
    "print(mode)\n",
    "for i in mode:\n",
    "    print(i)\n",
    "# 수정\n",
    "# print(f\"most frequent index : {mean[0]} \")\n",
    "#print(f\"most frequent value : {mode[0]}({pda.values[pdata]}) \")\n",
    "#print(f\"most frequent value :{mode[0]}({pda.values[mode].item()})\")"
   ]
  },
  {
   "cell_type": "code",
   "execution_count": 47,
   "id": "88955f1c",
   "metadata": {},
   "outputs": [
    {
     "name": "stdout",
     "output_type": "stream",
     "text": [
      "분산:  662\n",
      "표준편차:  25.73\n",
      "범위:  79\n",
      "사분위수: \n",
      "0% => 9.0\n",
      "25% => 42.75\n",
      "50% => 64.5\n",
      "75% => 84.0\n",
      "100% => 88.0\n",
      "IQR:  41.25\n"
     ]
    }
   ],
   "source": [
    "import numpy as np\n",
    "from statistics import variance, stdev\n",
    "\n",
    "np.random.seed(0)\n",
    "\n",
    "points =  np.random.randint(0,100,20)\n",
    "var = variance(points); print('분산: ', var)\n",
    "std  = stdev(points); print('표준편차: ', np.round(std, 2))\n",
    "range = np.max(points) - np.min(points); print('범위: ', range)\n",
    "print('사분위수: ')\n",
    "for val in [0,25,50,75,100]:\n",
    "    quatile = np.percentile(points, val)\n",
    "    print(\"{}% => {}\".format(val, quatile))\n",
    "    \n",
    "q1, q3 = np.percentile(points, [25,75])\n",
    "print(\"IQR: \",q3 -q1)"
   ]
  },
  {
   "cell_type": "code",
   "execution_count": null,
   "id": "e9b8e383",
   "metadata": {},
   "outputs": [],
   "source": []
  }
 ],
 "metadata": {
  "kernelspec": {
   "display_name": "MLvenv",
   "language": "python",
   "name": "mlvenv"
  },
  "language_info": {
   "codemirror_mode": {
    "name": "ipython",
    "version": 3
   },
   "file_extension": ".py",
   "mimetype": "text/x-python",
   "name": "python",
   "nbconvert_exporter": "python",
   "pygments_lexer": "ipython3",
   "version": "3.8.0"
  }
 },
 "nbformat": 4,
 "nbformat_minor": 5
}
